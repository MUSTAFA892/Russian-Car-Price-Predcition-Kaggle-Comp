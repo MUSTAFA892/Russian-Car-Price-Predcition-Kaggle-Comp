{
 "cells": [
  {
   "cell_type": "markdown",
   "id": "d4e719dc",
   "metadata": {},
   "source": [
    "Importing the dependencies\n"
   ]
  }
 ],
 "metadata": {
  "kernelspec": {
   "display_name": "venv",
   "language": "python",
   "name": "python3"
  },
  "language_info": {
   "name": "python",
   "version": "3.11.11"
  }
 },
 "nbformat": 4,
 "nbformat_minor": 5
}
